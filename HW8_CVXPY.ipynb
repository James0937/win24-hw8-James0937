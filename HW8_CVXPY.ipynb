{
  "cells": [
    {
      "cell_type": "markdown",
      "metadata": {
        "id": "view-in-github",
        "colab_type": "text"
      },
      "source": [
        "<a href=\"https://colab.research.google.com/github/James0937/win24-hw8-James0937/blob/main/HW8_CVXPY.ipynb\" target=\"_parent\"><img src=\"https://colab.research.google.com/assets/colab-badge.svg\" alt=\"Open In Colab\"/></a>"
      ]
    },
    {
      "cell_type": "markdown",
      "metadata": {
        "id": "G4o4xuDWGwrf"
      },
      "source": [
        "# IMPORTANT:\n",
        "Before you start coding, you must save a copy of this notebook to your own Google Drive. See `File > Save a copy in Drive`.\n",
        "\n",
        "If you forget to do this, your changes will be lost at the end of the session. If changes are being saved, you should see `All Changes Saved` to the right of the `Help` menu.\n",
        "\n",
        "You are free to download the .ipynb file and edit it using some other tool if you like. You do not need to use Google Colab if you are more familiar with another Jupyter environment.\n",
        "\n",
        "\n"
      ]
    },
    {
      "cell_type": "markdown",
      "source": [
        "# Quick Introduction to CVXPY"
      ],
      "metadata": {
        "id": "WYbhCplHb6Tf"
      }
    },
    {
      "cell_type": "markdown",
      "metadata": {
        "id": "7agH_0WuGwrh"
      },
      "source": [
        "[CVXPY](http://www.cvxpy.org/en/latest/index.html) is a Python-embedded modeling language for convex optimization problems. It allows you to express your problem in a natural way that follows the math, rather than in the restrictive standard form required by solvers.\n",
        "\n",
        "In this Jupyter notebook, we will see some examples on how to solve optimization problems using cvxpy."
      ]
    },
    {
      "cell_type": "markdown",
      "metadata": {
        "id": "lUyD7gRDGwrh"
      },
      "source": [
        "## A Linear Program\n",
        "\n",
        "Let's start with a simple example of a Linear Program, i.e., an optimization problem with a linear objective and linear inequality constraints.\n",
        "\n",
        "$$\n",
        "\\begin{align}\n",
        "\\max  \\; & 140x + 235y\\\\\n",
        "\\textrm{s.t.}\\; & x + y \\leq 180,\\\\\n",
        " & x + 2y \\leq 240,\\\\\n",
        " & 3x + y \\leq 300\\\\\n",
        " & x \\geq 0, y \\geq 0.\n",
        "\\end{align}\n",
        "$$\n",
        "\n",
        "Here is how you code this up and solve it using CVXPY."
      ]
    },
    {
      "cell_type": "code",
      "execution_count": null,
      "metadata": {
        "id": "vEGW1SDKGwri"
      },
      "outputs": [],
      "source": [
        "import cvxpy as cp\n",
        "import numpy\n",
        "\n",
        "# Create two scalar optimization variables\n",
        "x = cp.Variable()\n",
        "y = cp.Variable()\n",
        "\n",
        "# Create constraints\n",
        "constraints = [x >= 0,\n",
        "               y >= 0,\n",
        "               x + y <= 180,\n",
        "               x + 2*y <= 240,\n",
        "               3 * x + y <= 300]\n",
        "#constraints.append(x**2+2*y**2 >= 1)\n",
        "\n",
        "# Form objective\n",
        "obj = cp.Maximize(140*x +235*y)\n",
        "\n",
        "# Form and solve problem.\n",
        "prob = cp.Problem(obj, constraints)\n",
        "prob.solve()\n",
        "\n",
        "print(f\"status: {prob.status}\")\n",
        "print(f\"optimal value: {prob.value:.3f}\")\n",
        "print(f\"optimal var: x = {x.value:.3f}, y = {y.value:.3f}\")"
      ]
    },
    {
      "cell_type": "markdown",
      "metadata": {
        "collapsed": true,
        "id": "vnS1f4tUGwrj"
      },
      "source": [
        "CVXPY makes it easy to change the problem formulation. For example, we can add the constraint\n",
        "$$\n",
        "x^2 + 2 y^2 \\leq 1\n",
        "$$\n",
        "and solve the problem again."
      ]
    },
    {
      "cell_type": "code",
      "execution_count": null,
      "metadata": {
        "id": "biKaoVK9Gwrk"
      },
      "outputs": [],
      "source": [
        "constraints.append(x**2+2*y**2 <= 1)\n",
        "\n",
        "prob = cp.Problem(obj, constraints)\n",
        "prob.solve()\n",
        "\n",
        "print(f\"status: {prob.status}\")\n",
        "print(f\"optimal value: {prob.value:.3f}\")\n",
        "print(f\"optimal var: x = {x.value:.3f}, y = {y.value:.3f}\")"
      ]
    },
    {
      "cell_type": "markdown",
      "metadata": {
        "id": "QZ22NLFDGwrk"
      },
      "source": [
        "What happens when we flip the sign of this additional quadratic constraint? Check it out. How do you explain it?"
      ]
    },
    {
      "cell_type": "markdown",
      "metadata": {
        "id": "6eRYNKK2Gwrm"
      },
      "source": [
        "# An infeasible problem\n",
        "\n",
        "Here is a simple 2-D problem:\n",
        "$$\n",
        "\\begin{align}\n",
        "\\min & \\; x+y\\\\\n",
        "\\textrm{s.t.} &\\;  x+y \\leq -5\\\\\n",
        "&\\; x^2 + y^2 \\leq 1 \\\\\n",
        "\\end{align}\n",
        "$$\n",
        "\n",
        "Can you explain the output of the solver below? What happens as you change the right hand side of the second constraint?"
      ]
    },
    {
      "cell_type": "code",
      "execution_count": null,
      "metadata": {
        "id": "86YfkulPGwrm"
      },
      "outputs": [],
      "source": [
        "# An infeasible problem\n",
        "x = cp.Variable()\n",
        "y = cp.Variable()\n",
        "\n",
        "obj = cp.Minimize(x+y)\n",
        "constraints = [x + y <= -5, x**2 + y**2 <= 1\n",
        "]\n",
        "prob = cp.Problem(obj, constraints)\n",
        "prob.solve() # Returns the optimal value.\n",
        "print(\"status:\", prob.status)\n",
        "print(\"optimal value\", prob.value)\n",
        "print(\"optimal var\", x.value)"
      ]
    },
    {
      "cell_type": "markdown",
      "metadata": {
        "id": "PpzGoCWgGwrm"
      },
      "source": [
        "# Disciplined Convex Programming\n",
        "\n",
        "http://dcp.stanford.edu/home"
      ]
    },
    {
      "cell_type": "markdown",
      "metadata": {
        "id": "Qp81k6pvGwrm"
      },
      "source": [
        "# Min s-t distance\n",
        "\n",
        "A problem we saw in class was minimum distances. We studied a number of algorithms for different kinds of graphs; BFS for unweighted graphs, Dijkstra's algorithm for graphs with positive weights and Bellman-Ford for graphs with no negative cycles. Now we can write it as a linear program.\n",
        "\n",
        "First we will load [Zachary's karate club](https://en.wikipedia.org/wiki/Zachary%27s_karate_club) from Python's `networkx` library."
      ]
    },
    {
      "cell_type": "code",
      "execution_count": null,
      "metadata": {
        "id": "iqCVs8i6Gwrm"
      },
      "outputs": [],
      "source": [
        "import numpy as np\n",
        "import matplotlib.pyplot as plt\n",
        "import networkx as nx\n",
        "\n",
        "np.random.seed(2)\n",
        "G = nx.karate_club_graph()\n",
        "n = nx.number_of_nodes(G)\n",
        "m = nx.number_of_edges(G)\n",
        "pos = nx.spring_layout(G)\n",
        "nx.draw(G, pos=pos, with_labels=True)"
      ]
    },
    {
      "cell_type": "markdown",
      "metadata": {
        "id": "5m3eP3s4Gwrn"
      },
      "source": [
        "We want to maximize the distance of $t$ with the constraint that we can't stretch edges.\n",
        "\n",
        "\\begin{align*}\n",
        "\\max & \\; d_t \\\\\n",
        "\\text{s.t.}\\ & |d_u - d_v| \\leq 1 &\\ \\forall \\{u, v\\} \\in E \\\\\n",
        "& d_s = 0\n",
        "\\end{align*}"
      ]
    },
    {
      "cell_type": "code",
      "execution_count": null,
      "metadata": {
        "id": "PX8npLBrGwrn"
      },
      "outputs": [],
      "source": [
        "distance = cp.Variable(n, nonneg=True)\n",
        "a = cp.Variable(nonneg=True)\n",
        "\n",
        "s = 0\n",
        "t = 33\n",
        "\n",
        "constraints = [distance[s] == 0]\n",
        "\n",
        "# TODO: Formulate the constraints as above\n",
        "...\n",
        "\n",
        "\n",
        "obj = # TODO: Write the objective function\n",
        "prob = cp.Problem(obj, constraints)\n",
        "prob.solve()\n",
        "print(\"status:\", prob.status)\n",
        "print(f\"optimal value: {prob.value:.6f}\")\n",
        "print(\"optimal values:\")\n",
        "# for node in G:\n",
        "#     print(f\"{node:2d}: {distance[node].value:.3f}\")\n"
      ]
    },
    {
      "cell_type": "code",
      "execution_count": null,
      "metadata": {
        "id": "hXJD44qqGwrn"
      },
      "outputs": [],
      "source": [
        "nx.draw(G, pos=pos, with_labels=True, node_color=distance.value / distance[t].value)"
      ]
    },
    {
      "cell_type": "markdown",
      "metadata": {
        "id": "8D43Su1NGwrn"
      },
      "source": [
        "## Maximum flow\n",
        "\n",
        "We can also use `cvxpy` to formulate maximum flow on a graph. The constraints are that every edge cannot carry more than its capacity and except for $s$ and $t$, in all other nodes there should be flow conservation. The karate graph is undirected, but we can model each undirected $\\{u, v\\}$ edge as a pair of directed edges $(u, v)$ and $(v, u)$ going in opposite directions.\n",
        "\n",
        "\\begin{align*}\n",
        "\\max & \\sum_{(v, t)} f_{(v, t)} - \\sum_{(t, v)} f_{(t, v)} \\\\\n",
        "\\text{s.t.}\\ & 0 \\leq f_e \\leq 1, &\\ \\forall e \\in E \\\\\n",
        "& \\sum_{(u, v)\\ \\in E} f_{(u, v)} = \\sum_{(v, w)\\ \\in E} f_{(v, w)}, &\\ \\forall v \\not \\in \\{s, t\\}\n",
        "\\end{align*}"
      ]
    },
    {
      "cell_type": "code",
      "execution_count": null,
      "metadata": {
        "id": "UKhHkTmzGwrn"
      },
      "outputs": [],
      "source": [
        "def maxFlow(G, s, t)\n",
        "    n = nx.number_of_nodes(G)\n",
        "    m = nx.number_of_edges(G)\n",
        "\n",
        "    edge_var = cp.Variable(2 * m)               # Think of an undirected edge as two directed edges going in opposite directions\n",
        "\n",
        "    # Note - you can organize the variables however you want after cvxpy creates them.\n",
        "    # It may make more sense to place them in 2 seperate lists based on direction. Alternatively,\n",
        "    # you can associate each one with an edge using a dictionary.\n",
        "\n",
        "    # TODO: Write the constraints as above\n",
        "    constraints = []\n",
        "\n",
        "    # The flow going through each edge must in [0, 1]\n",
        "\n",
        "    # The sum of the flows going in and out of each\n",
        "    # node other than s and t must be 0\n",
        "\n",
        "    obj =                                       # TODO: The objective is to maximize the net flow going in to t\n",
        "    prob = cp.Problem(obj, constraints)\n",
        "    prob.solve()\n",
        "    print(\"status:\", prob.status)\n",
        "    print(\"optimal value\", prob.value)\n",
        "\n",
        "    return prob.value\n",
        "\n",
        "# Test on the Karate Club graph\n",
        "maxFlow(G, 0, 33)"
      ]
    },
    {
      "cell_type": "code",
      "execution_count": null,
      "metadata": {
        "id": "ETiQfIhcGwrn"
      },
      "outputs": [],
      "source": [
        "# Displays the graph using the results from the first m edges. Depending on how\n",
        "# You organized your 2n variables, you may want to tweak this to get a more useful\n",
        "# visualization. Feel free to ignore.\n",
        "nx.draw(G, pos=pos, with_labels=True, edge_color=np.abs(edge_var.value[0:m]), edge_cmap=plt.cm.Blues)"
      ]
    },
    {
      "cell_type": "markdown",
      "source": [
        "## Linear Programming vs Dedicated Algorithms\n",
        "\n",
        "You already expressed $s-t$ minimum distance and maximum $s-t$ flow. If we can express these problems as LPs, then why did we spend a quarter of this class learning specific algorithms to solve them?\n",
        "\n",
        "In this section you will use the function you wrote on a random graph to compute maximum $s-t$ flow and then compare the running time with `networkx`'s built in Max Flow algorithm.\n",
        "\n",
        "First you need to create a $G(n, p)$ graph and then find the maximum flow between nodes $0$ and $n-1$."
      ],
      "metadata": {
        "id": "mlPWUokEJdgt"
      }
    },
    {
      "cell_type": "code",
      "source": [
        "n = 100\n",
        "p = 2 * n * np.log(n)\n",
        "Gnp = nx.fast_gnp_random_graph(n, p)\n",
        "nx.set_edge_attributes(Gnp, 1, 'capacity')\n",
        "\n",
        "%timeit flow = maxFlow(Gnp, 0, n - 1)\n",
        "%timeit flow = nx.maximum_flow_value(Gnp, 0, n - 1)"
      ],
      "metadata": {
        "id": "IFLmKOuBJcdv"
      },
      "execution_count": null,
      "outputs": []
    },
    {
      "cell_type": "markdown",
      "source": [
        "The fraction of time taken between Linear Programming and `networkx` is: **TODO**"
      ],
      "metadata": {
        "id": "GPQWZcipsnqi"
      }
    }
  ],
  "metadata": {
    "anaconda-cloud": {},
    "kernelspec": {
      "display_name": "Python 3",
      "language": "python",
      "name": "python3"
    },
    "language_info": {
      "codemirror_mode": {
        "name": "ipython",
        "version": 3
      },
      "file_extension": ".py",
      "mimetype": "text/x-python",
      "name": "python",
      "nbconvert_exporter": "python",
      "pygments_lexer": "ipython3",
      "version": "3.7.6"
    },
    "latex_envs": {
      "LaTeX_envs_menu_present": true,
      "autocomplete": false,
      "bibliofile": "biblio.bib",
      "cite_by": "apalike",
      "current_citInitial": 1,
      "eqLabelWithNumbers": true,
      "eqNumInitial": 1,
      "hotkeys": {
        "equation": "Ctrl-E",
        "itemize": "Ctrl-I"
      },
      "labels_anchors": true,
      "latex_user_defs": true,
      "report_style_numbering": false,
      "user_envs_cfg": true
    },
    "colab": {
      "provenance": [],
      "include_colab_link": true
    }
  },
  "nbformat": 4,
  "nbformat_minor": 0
}